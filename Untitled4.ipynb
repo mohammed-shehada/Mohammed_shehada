{
 "cells": [
  {
   "cell_type": "markdown",
   "id": "b26bc91e",
   "metadata": {},
   "source": [
    "### Add your code below following the instructions given in the course"
   ]
  },
  {
   "cell_type": "markdown",
   "id": "0576b34e",
   "metadata": {},
   "source": [
    "# Data Science Tools and Ecosystem"
   ]
  },
  {
   "cell_type": "markdown",
   "id": "ee896df1",
   "metadata": {},
   "source": [
    "In this notebook, Data Science Tools and Ecosystem are summarized"
   ]
  },
  {
   "cell_type": "markdown",
   "id": "bf62b509",
   "metadata": {},
   "source": [
    "**Objectives:**\n",
    "\n",
    "- List popular languages for Data Science.\n",
    "- Explore commonly used libraries for Data Science.\n",
    "- Introduce key concepts in Data Asset Management.\n",
    "- Demonstrate basic arithmetic expressions in Python.\n",
    "- Showcase the use of Jupyter Notebook for interactive computing."
   ]
  },
  {
   "cell_type": "markdown",
   "id": "1d6b7021",
   "metadata": {},
   "source": [
    "Some of the popular languages that Data Scientists use are:\n",
    "    1. Python\n",
    "    2. SQL\n",
    "    3. R"
   ]
  },
  {
   "cell_type": "markdown",
   "id": "6bdd4053",
   "metadata": {},
   "source": [
    "Some of the commonly used libraries used by Data Scientists include:\n",
    "    1. Pandas \n",
    "    2. Numby\n",
    "    3. Matplotlip"
   ]
  },
  {
   "cell_type": "markdown",
   "id": "a43f6b92",
   "metadata": {},
   "source": [
    "| Data Science Tools |\n",
    "|--------------------|\n",
    "| Jupyter Notebook   |\n",
    "| RStudio            |\n",
    "| Spyder             |\n"
   ]
  },
  {
   "cell_type": "code",
   "execution_count": 4,
   "id": "161339bb",
   "metadata": {},
   "outputs": [
    {
     "data": {
      "text/plain": [
       "17"
      ]
     },
     "execution_count": 4,
     "metadata": {},
     "output_type": "execute_result"
    }
   ],
   "source": [
    "# This a simple arithmetic expression to mutiply then add integers.\n",
    "(3*4)+5"
   ]
  },
  {
   "cell_type": "code",
   "execution_count": 5,
   "id": "4aed28a9",
   "metadata": {},
   "outputs": [
    {
     "data": {
      "text/plain": [
       "3.3333333333333335"
      ]
     },
     "execution_count": 5,
     "metadata": {},
     "output_type": "execute_result"
    }
   ],
   "source": [
    "# This will convert 200 minutes to hours by dividing by 60.\n",
    "200/60"
   ]
  },
  {
   "cell_type": "markdown",
   "id": "baa5da70",
   "metadata": {},
   "source": [
    "## Author\n",
    "\n",
    "Mohammed Shehada"
   ]
  },
  {
   "cell_type": "code",
   "execution_count": null,
   "id": "e486a464",
   "metadata": {},
   "outputs": [],
   "source": []
  }
 ],
 "metadata": {
  "kernelspec": {
   "display_name": "Python 3 (ipykernel)",
   "language": "python",
   "name": "python3"
  },
  "language_info": {
   "codemirror_mode": {
    "name": "ipython",
    "version": 3
   },
   "file_extension": ".py",
   "mimetype": "text/x-python",
   "name": "python",
   "nbconvert_exporter": "python",
   "pygments_lexer": "ipython3",
   "version": "3.10.9"
  }
 },
 "nbformat": 4,
 "nbformat_minor": 5
}
